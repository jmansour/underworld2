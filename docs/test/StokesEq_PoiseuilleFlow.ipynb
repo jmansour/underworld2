{
 "cells": [
  {
   "cell_type": "markdown",
   "metadata": {
    "collapsed": true
   },
   "source": [
    "### Example of a 1D Channel driven flow\n",
    "\n",
    "Model Setup\n",
    "-----------\n",
    "\n",
    "2D, Stokes Equation with noslip BC at top and bottom boundary and a lateral pressure gradient driving the flow, a.k.a. Poiseuille Flow.\n",
    "\n",
    "\\\\[\n",
    "\\frac{\\partial \\tau}{\\partial y} = \\mu \\frac{\\partial^{2} \\mathbf{u}}{\\partial{y}^{2}} = \\frac{\\partial p}{\\partial x}\n",
    "\\\\]\n",
    "\n",
    "\\\\[\n",
    "\\nabla \\cdot \\mathbf{u} = 0\n",
    "\\\\]\n",
    "\n",
    "with $ x_{a} \\leqslant x \\leqslant x_{b} $ and $ 0.0 \\leqslant y \\leqslant h $\n",
    "\n",
    "Boundary conditions:\n",
    "\n",
    " * $\\mathbf{u}(x,y=h) = \\mathbf{u}(x,y=0) = \\left[0,0 \\right]$\n",
    " * $P(x_a) = P_a$\n",
    " * $P(x_b) = P_b $\n",
    "\n",
    "------\n",
    "\n",
    "A 1D solution in $y$-axis, described by\n",
    "\n",
    "$ \\mathbf{u}(x,y) =  \\left[ \\frac{1}{2 \\mu} \\frac{\\partial p }{\\partial x} ( y^{2} - h y ), 0.0 \\right]$"
   ]
  },
  {
   "cell_type": "markdown",
   "metadata": {},
   "source": [
    "We implement the above boundary conditions using:\n",
    " * a `DirichletCondition` object for $\\mathbf{u}(x,y=1) = \\mathbf{u}(x,y=0) = \\left[0,0 \\right]$\n",
    " * a `NeumannCondition` object for $P(x_a) = P_a$ & $P(x_b) = P_b $\n",
    "\n",
    "The `NeumannCondition` object, used with the `Stokes` object, defines a stress along a boundary such that:\n",
    "  * $ \\sigma_{ij} n_{j} = \\phi_{i} $ on $ \\Gamma_{\\phi} $\n",
    "\n",
    "  where  \n",
    "    * $n$ is the surface normal pointing outwards,\n",
    "    * $ \\sigma_{ij} = \\tau_{ij} - \\delta_{ij} P$ is the prescribed stress tensor, which is multiplied my $ n $ at $ \\Gamma_{\\phi} $ to produce $\\phi_{i}$, a surface traction on the given boundary."
   ]
  },
  {
   "cell_type": "code",
   "execution_count": 1,
   "metadata": {},
   "outputs": [],
   "source": [
    "import underworld as uw\n",
    "from underworld import function as fn\n",
    "import underworld.visualisation as vis\n",
    "import math\n",
    "import numpy as np\n",
    "\n",
    "# for machines without matplotlib #\n",
    "make_graphs = True\n",
    "try:\n",
    "    import matplotlib\n",
    "except ImportError:\n",
    "    make_graphs=False"
   ]
  },
  {
   "cell_type": "markdown",
   "metadata": {},
   "source": [
    "Setup parameters\n",
    "-----"
   ]
  },
  {
   "cell_type": "code",
   "execution_count": 2,
   "metadata": {},
   "outputs": [],
   "source": [
    "# domain height\n",
    "h = 1.0\n",
    "# Set a constant viscosity.\n",
    "viscosity = 1.4\n",
    "\n",
    "# position of walls and associated pressure on walls\n",
    "xa = -1.0\n",
    "pa = 4.0\n",
    "\n",
    "xb = 1.0\n",
    "pb = 3.0"
   ]
  },
  {
   "cell_type": "code",
   "execution_count": 3,
   "metadata": {},
   "outputs": [],
   "source": [
    "mesh = uw.mesh.FeMesh_Cartesian( elementType = (\"Q1/dQ0\"), \n",
    "                                 elementRes  = (128, 128), \n",
    "                                 minCoord    = (xa, 0.), \n",
    "                                 maxCoord    = (xb, h))\n",
    "\n",
    "velocityField   = uw.mesh.MeshVariable( mesh=mesh,         nodeDofCount=2 )\n",
    "pressureField   = uw.mesh.MeshVariable( mesh=mesh.subMesh, nodeDofCount=1 )\n",
    "appliedTractionField = uw.mesh.MeshVariable( mesh=mesh,    nodeDofCount=2 )\n",
    "\n",
    "# initialise velocity, pressure field\n",
    "velocityField.data[:] = [0.,0.]\n",
    "pressureField.data[:] = 0."
   ]
  },
  {
   "cell_type": "code",
   "execution_count": 4,
   "metadata": {},
   "outputs": [],
   "source": [
    "jWalls = mesh.specialSets[\"MinJ_VertexSet\"] + mesh.specialSets[\"MaxJ_VertexSet\"]\n",
    "iWalls = mesh.specialSets[\"MinI_VertexSet\"] + mesh.specialSets[\"MaxI_VertexSet\"]\n",
    "allWalls = iWalls + jWalls"
   ]
  },
  {
   "cell_type": "code",
   "execution_count": 5,
   "metadata": {},
   "outputs": [
    {
     "name": "stdout",
     "output_type": "stream",
     "text": [
      "-0.5\n"
     ]
    }
   ],
   "source": [
    "vBC = uw.conditions.DirichletCondition( variable = velocityField, \n",
    "                                        indexSetsPerDof = (jWalls, allWalls) )\n",
    "\n",
    "dp_dx = (pb-pa)/(xb-xa)\n",
    "\n",
    "# This stress is multiplied by the wall normal to produce a traction force.\n",
    "#############\n",
    "# Remember total stress = deviatoric - isotropic. \n",
    "# Thus +pressure is a negative stress.\n",
    "#############\n",
    "\n",
    "# The left wall normal unit vector is (-1,0)\n",
    "# The right wall normal unit vector is (1,0)\n",
    "\n",
    "# (-press) * normal_j = surface_force\n",
    "appliedTractionField.data[mesh.specialSets[\"MinI_VertexSet\"].data] = (pa,0.0)\n",
    "\n",
    "appliedTractionField.data[mesh.specialSets[\"MaxI_VertexSet\"].data] = (-1*pb,0.0)\n",
    "\n",
    "nbc = uw.conditions.NeumannCondition( fn_flux=appliedTractionField, \n",
    "                                      variable=velocityField,\n",
    "                                      indexSetsPerDof=(iWalls, None) )\n",
    "print(dp_dx)"
   ]
  },
  {
   "cell_type": "code",
   "execution_count": 6,
   "metadata": {},
   "outputs": [],
   "source": [
    "stokes = uw.systems.Stokes( velocityField = velocityField, \n",
    "                            pressureField = pressureField,\n",
    "                            conditions    = [vBC, nbc],\n",
    "                            fn_viscosity   = viscosity, \n",
    "                            fn_bodyforce   = 0.0 )\n",
    "\n",
    "solver = uw.systems.Solver( stokes )\n",
    "solver.solve()"
   ]
  },
  {
   "cell_type": "code",
   "execution_count": 7,
   "metadata": {},
   "outputs": [
    {
     "data": {
      "text/html": [
       "<img src='data:image/png;base64,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'>"
      ],
      "text/plain": [
       "<IPython.core.display.HTML object>"
      ]
     },
     "metadata": {},
     "output_type": "display_data"
    }
   ],
   "source": [
    "fig = vis.Figure()\n",
    "velmagfield = uw.function.math.sqrt( uw.function.math.dot( velocityField, velocityField ) )\n",
    "fig.append( vis.objects.VectorArrows(mesh, velocityField, arrowHead=0.2, scaling=0.9) )\n",
    "# fig.append( vis.objects.Mesh(mesh) )\n",
    "fig.append( vis.objects.Surface( mesh, pressureField ) )\n",
    "fig.show()"
   ]
  },
  {
   "cell_type": "code",
   "execution_count": 8,
   "metadata": {},
   "outputs": [],
   "source": [
    "ids = mesh.specialSets[\"MaxI_VertexSet\"]\n",
    "coords = mesh.data[ids.data] # xcoords\n",
    "V = velocityField.evaluate(ids)\n",
    "gradV = velocityField.fn_gradient.evaluate(ids)\n",
    "\n",
    "u = V[:,0] ; v = V[:,1]\n",
    "du_dx = gradV[:,0] ; du_dy = gradV[:,1]\n",
    "dv_dx = gradV[:,2] ; dv_dy = gradV[:,3]\n",
    "\n",
    "strainRate = fn.tensor.symmetric( velocityField.fn_gradient )\n",
    "devstress = 2.0 * viscosity * strainRate"
   ]
  },
  {
   "cell_type": "code",
   "execution_count": 9,
   "metadata": {},
   "outputs": [],
   "source": [
    "def exact_vx(y):\n",
    "    ana_u = 1.0 / (2.0 * viscosity)* dp_dx * (y**2 - h*y)\n",
    "    return ana_u\n",
    "\n",
    "def exact_shearSR(y):\n",
    "    shearSR = dp_dx / (2.0*viscosity) * (y - h/2 )\n",
    "    return shearSR"
   ]
  },
  {
   "cell_type": "code",
   "execution_count": 10,
   "metadata": {},
   "outputs": [
    {
     "data": {
      "image/png": "[encoded data removed]",
      "text/plain": [
       "<matplotlib.figure.Figure at 0x112e69668>"
      ]
     },
     "metadata": {},
     "output_type": "display_data"
    }
   ],
   "source": [
    "if make_graphs:\n",
    "    uw.matplotlib_inline()\n",
    "    import matplotlib.pyplot as pyplot\n",
    "    import matplotlib.pylab as pylab\n",
    "    pyplot.ion() # needed to ensure pure python jobs do now hang on show()\n",
    "\n",
    "    pylab.rcParams[ 'figure.figsize'] = 12, 6\n",
    "    pyplot.plot(coords[:,1], u, 'o', color = 'green', label='vx')\n",
    "    pyplot.plot(coords[:,1], v, 'o', color = 'red', label='vy')\n",
    "    big = np.linspace(0.0,h)\n",
    "    pyplot.plot(big, exact_vx(big), 'D', color = 'purple', label='exact_vx', markersize=2)\n",
    "    pyplot.legend()\n",
    "    pyplot.xlabel('y coords at x=xmax')\n",
    "    pyplot.ylabel('velocity')\n",
    "    pyplot.show()"
   ]
  },
  {
   "cell_type": "code",
   "execution_count": 11,
   "metadata": {},
   "outputs": [
    {
     "name": "stdout",
     "output_type": "stream",
     "text": [
      "Relative error against analytic solution: 1.4047969477270738e-05\n"
     ]
    }
   ],
   "source": [
    "ana_u = exact_vx(coords[:,1])\n",
    "\n",
    "abserr = uw.utils._nps_2norm(ana_u - u)\n",
    "mag = uw.utils._nps_2norm(ana_u)\n",
    "relerr = abserr / mag\n",
    "\n",
    "from mpi4py import MPI\n",
    "comm = MPI.COMM_WORLD\n",
    "\n",
    "\n",
    "if uw.mpi.rank == 0:\n",
    "    threshold = 1.0e-4\n",
    "    print(\"Relative error against analytic solution: {}\".format(relerr))\n",
    "    if relerr > threshold:\n",
    "        raise RuntimeError(\"The numerical solution is outside the error threshold of the analytic solution.\" \\\n",
    "                           \"The Relative error was \", relerr,\" the threshold is \", threshold)"
   ]
  },
  {
   "cell_type": "code",
   "execution_count": 12,
   "metadata": {},
   "outputs": [],
   "source": [
    "# Further analytics\n",
    "# pyplot.plot(coords[:,1], du_dy, 'o', color = 'purple', label='du_dy')\n",
    "# pyplot.plot(coords[:,1], du_dx, '+', color = 'black', label='du_dx')\n",
    "# pyplot.plot(coords[:,1], dv_dy, 'x', color = 'orange', label='dv_dy')\n",
    "# pyplot.plot(coords[:,1], dv_dx, '.', color = 'red', label='dv_dx')\n",
    "# pyplot.legend()\n",
    "# pyplot.xlabel('y coords at x=xmax')\n",
    "# pyplot.ylabel('velocity gradients')\n",
    "# pyplot.show()"
   ]
  },
  {
   "cell_type": "code",
   "execution_count": 13,
   "metadata": {},
   "outputs": [],
   "source": [
    "# Further analytics\n",
    "# pyplot.plot(coords[:,1], sr, '-', label='exact_shearSR')\n",
    "# pyplot.plot(coords[:,1], strainRate.evaluate(ids)[:,2], 'o', color = 'purple', label='sr_shear')\n",
    "# pyplot.plot(coords[:,1], devstress.evaluate(ids)[:,2], '+', label='tau_shear')\n",
    "# pyplot.legend()\n",
    "# pyplot.xlabel('y coords at x=xmax')\n",
    "# pyplot.ylabel('strain rate')\n",
    "# pyplot.show()"
   ]
  }
 ],
 "metadata": {
  "kernelspec": {
   "display_name": "Python 3",
   "language": "python",
   "name": "python3"
  },
  "language_info": {
   "codemirror_mode": {
    "name": "ipython",
    "version": 3
   },
   "file_extension": ".py",
   "mimetype": "text/x-python",
   "name": "python",
   "nbconvert_exporter": "python",
   "pygments_lexer": "ipython3",
   "version": "3.5.3"
  }
 },
 "nbformat": 4,
 "nbformat_minor": 1
}
